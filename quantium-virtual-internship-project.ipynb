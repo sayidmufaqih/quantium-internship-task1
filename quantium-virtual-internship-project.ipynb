{
 "cells": [
  {
   "cell_type": "code",
   "execution_count": 1,
   "id": "28458e4c",
   "metadata": {
    "_execution_state": "idle",
    "_uuid": "051d70d956493feee0c6d64651c6a088724dca2a",
    "execution": {
     "iopub.execute_input": "2024-01-17T14:03:32.911125Z",
     "iopub.status.busy": "2024-01-17T14:03:32.908451Z",
     "iopub.status.idle": "2024-01-17T14:03:34.208687Z",
     "shell.execute_reply": "2024-01-17T14:03:34.206648Z"
    },
    "papermill": {
     "duration": 1.324506,
     "end_time": "2024-01-17T14:03:34.212104",
     "exception": false,
     "start_time": "2024-01-17T14:03:32.887598",
     "status": "completed"
    },
    "tags": []
   },
   "outputs": [
    {
     "name": "stderr",
     "output_type": "stream",
     "text": [
      "── \u001b[1mAttaching core tidyverse packages\u001b[22m ──────────────────────── tidyverse 2.0.0 ──\n",
      "\u001b[32m✔\u001b[39m \u001b[34mdplyr    \u001b[39m 1.1.4     \u001b[32m✔\u001b[39m \u001b[34mreadr    \u001b[39m 2.1.4\n",
      "\u001b[32m✔\u001b[39m \u001b[34mforcats  \u001b[39m 1.0.0     \u001b[32m✔\u001b[39m \u001b[34mstringr  \u001b[39m 1.5.1\n",
      "\u001b[32m✔\u001b[39m \u001b[34mggplot2  \u001b[39m 3.4.4     \u001b[32m✔\u001b[39m \u001b[34mtibble   \u001b[39m 3.2.1\n",
      "\u001b[32m✔\u001b[39m \u001b[34mlubridate\u001b[39m 1.9.3     \u001b[32m✔\u001b[39m \u001b[34mtidyr    \u001b[39m 1.3.0\n",
      "\u001b[32m✔\u001b[39m \u001b[34mpurrr    \u001b[39m 1.0.2     \n",
      "── \u001b[1mConflicts\u001b[22m ────────────────────────────────────────── tidyverse_conflicts() ──\n",
      "\u001b[31m✖\u001b[39m \u001b[34mdplyr\u001b[39m::\u001b[32mfilter()\u001b[39m masks \u001b[34mstats\u001b[39m::filter()\n",
      "\u001b[31m✖\u001b[39m \u001b[34mdplyr\u001b[39m::\u001b[32mlag()\u001b[39m    masks \u001b[34mstats\u001b[39m::lag()\n",
      "\u001b[36mℹ\u001b[39m Use the conflicted package (\u001b[3m\u001b[34m<http://conflicted.r-lib.org/>\u001b[39m\u001b[23m) to force all conflicts to become errors\n"
     ]
    },
    {
     "data": {
      "text/html": [
       "'quantium-customer-dataset'"
      ],
      "text/latex": [
       "'quantium-customer-dataset'"
      ],
      "text/markdown": [
       "'quantium-customer-dataset'"
      ],
      "text/plain": [
       "[1] \"quantium-customer-dataset\""
      ]
     },
     "metadata": {},
     "output_type": "display_data"
    }
   ],
   "source": [
    "# This R environment comes with many helpful analytics packages installed\n",
    "# It is defined by the kaggle/rstats Docker image: https://github.com/kaggle/docker-rstats\n",
    "# For example, here's a helpful package to load\n",
    "\n",
    "library(tidyverse) # metapackage of all tidyverse packages\n",
    "\n",
    "# Input data files are available in the read-only \"../input/\" directory\n",
    "# For example, running this (by clicking run or pressing Shift+Enter) will list all files under the input directory\n",
    "\n",
    "list.files(path = \"../input\")\n",
    "\n",
    "# You can write up to 20GB to the current directory (/kaggle/working/) that gets preserved as output when you create a version using \"Save & Run All\" \n",
    "# You can also write temporary files to /kaggle/temp/, but they won't be saved outside of the current session"
   ]
  },
  {
   "cell_type": "markdown",
   "id": "743a09cc",
   "metadata": {
    "papermill": {
     "duration": 0.01766,
     "end_time": "2024-01-17T14:03:34.247382",
     "exception": false,
     "start_time": "2024-01-17T14:03:34.229722",
     "status": "completed"
    },
    "tags": []
   },
   "source": [
    "## Introduction"
   ]
  },
  {
   "cell_type": "markdown",
   "id": "6b9a7a01",
   "metadata": {
    "papermill": {
     "duration": 0.017769,
     "end_time": "2024-01-17T14:03:34.282478",
     "exception": false,
     "start_time": "2024-01-17T14:03:34.264709",
     "status": "completed"
    },
    "tags": []
   },
   "source": [
    "## Business Task"
   ]
  },
  {
   "cell_type": "markdown",
   "id": "2582ef90",
   "metadata": {
    "papermill": {
     "duration": 0.021648,
     "end_time": "2024-01-17T14:03:34.325802",
     "exception": false,
     "start_time": "2024-01-17T14:03:34.304154",
     "status": "completed"
    },
    "tags": []
   },
   "source": [
    "## Loading Packages"
   ]
  },
  {
   "cell_type": "code",
   "execution_count": 2,
   "id": "9e09dc44",
   "metadata": {
    "execution": {
     "iopub.execute_input": "2024-01-17T14:03:34.428385Z",
     "iopub.status.busy": "2024-01-17T14:03:34.373564Z",
     "iopub.status.idle": "2024-01-17T14:03:34.847110Z",
     "shell.execute_reply": "2024-01-17T14:03:34.845163Z"
    },
    "papermill": {
     "duration": 0.502989,
     "end_time": "2024-01-17T14:03:34.850515",
     "exception": false,
     "start_time": "2024-01-17T14:03:34.347526",
     "status": "completed"
    },
    "tags": []
   },
   "outputs": [
    {
     "name": "stderr",
     "output_type": "stream",
     "text": [
      "here() starts at /kaggle/working\n",
      "\n",
      "\n",
      "Attaching package: ‘janitor’\n",
      "\n",
      "\n",
      "The following objects are masked from ‘package:stats’:\n",
      "\n",
      "    chisq.test, fisher.test\n",
      "\n",
      "\n",
      "\n",
      "Attaching package: ‘data.table’\n",
      "\n",
      "\n",
      "The following objects are masked from ‘package:lubridate’:\n",
      "\n",
      "    hour, isoweek, mday, minute, month, quarter, second, wday, week,\n",
      "    yday, year\n",
      "\n",
      "\n",
      "The following objects are masked from ‘package:dplyr’:\n",
      "\n",
      "    between, first, last\n",
      "\n",
      "\n",
      "The following object is masked from ‘package:purrr’:\n",
      "\n",
      "    transpose\n",
      "\n",
      "\n"
     ]
    }
   ],
   "source": [
    "library(tidyverse)\n",
    "library(lubridate)\n",
    "library(dplyr)\n",
    "library(ggplot2)\n",
    "library(tidyr)\n",
    "library(skimr)\n",
    "library(here)\n",
    "library(janitor)\n",
    "library(readxl)\n",
    "library(data.table)\n",
    "library(stringr)"
   ]
  },
  {
   "cell_type": "markdown",
   "id": "aec1fc49",
   "metadata": {
    "papermill": {
     "duration": 0.017981,
     "end_time": "2024-01-17T14:03:34.886672",
     "exception": false,
     "start_time": "2024-01-17T14:03:34.868691",
     "status": "completed"
    },
    "tags": []
   },
   "source": [
    "## Importing Dataset\n",
    "Dataset used in this project is from Quantium"
   ]
  },
  {
   "cell_type": "code",
   "execution_count": 3,
   "id": "2bc8249d",
   "metadata": {
    "execution": {
     "iopub.execute_input": "2024-01-17T14:03:34.927234Z",
     "iopub.status.busy": "2024-01-17T14:03:34.925409Z",
     "iopub.status.idle": "2024-01-17T14:03:38.057537Z",
     "shell.execute_reply": "2024-01-17T14:03:38.055500Z"
    },
    "papermill": {
     "duration": 3.156145,
     "end_time": "2024-01-17T14:03:38.061303",
     "exception": false,
     "start_time": "2024-01-17T14:03:34.905158",
     "status": "completed"
    },
    "tags": []
   },
   "outputs": [],
   "source": [
    "purchase_behaviour <- read.csv(\"/kaggle/input/quantium-customer-dataset/QVI_purchase_behaviour.csv\")\n",
    "transaction <- read_excel(\"/kaggle/input/quantium-customer-dataset/QVI_transaction_data.xlsx\")"
   ]
  },
  {
   "cell_type": "code",
   "execution_count": 4,
   "id": "234bdaa5",
   "metadata": {
    "execution": {
     "iopub.execute_input": "2024-01-17T14:03:38.102670Z",
     "iopub.status.busy": "2024-01-17T14:03:38.100910Z",
     "iopub.status.idle": "2024-01-17T14:03:38.316436Z",
     "shell.execute_reply": "2024-01-17T14:03:38.314577Z"
    },
    "papermill": {
     "duration": 0.239514,
     "end_time": "2024-01-17T14:03:38.319267",
     "exception": false,
     "start_time": "2024-01-17T14:03:38.079753",
     "status": "completed"
    },
    "tags": []
   },
   "outputs": [
    {
     "data": {
      "text/html": [
       "<table class=\"dataframe\">\n",
       "<caption>A data.frame: 6 × 3</caption>\n",
       "<thead>\n",
       "\t<tr><th></th><th scope=col>LYLTY_CARD_NBR</th><th scope=col>LIFESTAGE</th><th scope=col>PREMIUM_CUSTOMER</th></tr>\n",
       "\t<tr><th></th><th scope=col>&lt;int&gt;</th><th scope=col>&lt;chr&gt;</th><th scope=col>&lt;chr&gt;</th></tr>\n",
       "</thead>\n",
       "<tbody>\n",
       "\t<tr><th scope=row>1</th><td>1000</td><td>YOUNG SINGLES/COUPLES </td><td>Premium   </td></tr>\n",
       "\t<tr><th scope=row>2</th><td>1002</td><td>YOUNG SINGLES/COUPLES </td><td>Mainstream</td></tr>\n",
       "\t<tr><th scope=row>3</th><td>1003</td><td>YOUNG FAMILIES        </td><td>Budget    </td></tr>\n",
       "\t<tr><th scope=row>4</th><td>1004</td><td>OLDER SINGLES/COUPLES </td><td>Mainstream</td></tr>\n",
       "\t<tr><th scope=row>5</th><td>1005</td><td>MIDAGE SINGLES/COUPLES</td><td>Mainstream</td></tr>\n",
       "\t<tr><th scope=row>6</th><td>1007</td><td>YOUNG SINGLES/COUPLES </td><td>Budget    </td></tr>\n",
       "</tbody>\n",
       "</table>\n"
      ],
      "text/latex": [
       "A data.frame: 6 × 3\n",
       "\\begin{tabular}{r|lll}\n",
       "  & LYLTY\\_CARD\\_NBR & LIFESTAGE & PREMIUM\\_CUSTOMER\\\\\n",
       "  & <int> & <chr> & <chr>\\\\\n",
       "\\hline\n",
       "\t1 & 1000 & YOUNG SINGLES/COUPLES  & Premium   \\\\\n",
       "\t2 & 1002 & YOUNG SINGLES/COUPLES  & Mainstream\\\\\n",
       "\t3 & 1003 & YOUNG FAMILIES         & Budget    \\\\\n",
       "\t4 & 1004 & OLDER SINGLES/COUPLES  & Mainstream\\\\\n",
       "\t5 & 1005 & MIDAGE SINGLES/COUPLES & Mainstream\\\\\n",
       "\t6 & 1007 & YOUNG SINGLES/COUPLES  & Budget    \\\\\n",
       "\\end{tabular}\n"
      ],
      "text/markdown": [
       "\n",
       "A data.frame: 6 × 3\n",
       "\n",
       "| <!--/--> | LYLTY_CARD_NBR &lt;int&gt; | LIFESTAGE &lt;chr&gt; | PREMIUM_CUSTOMER &lt;chr&gt; |\n",
       "|---|---|---|---|\n",
       "| 1 | 1000 | YOUNG SINGLES/COUPLES  | Premium    |\n",
       "| 2 | 1002 | YOUNG SINGLES/COUPLES  | Mainstream |\n",
       "| 3 | 1003 | YOUNG FAMILIES         | Budget     |\n",
       "| 4 | 1004 | OLDER SINGLES/COUPLES  | Mainstream |\n",
       "| 5 | 1005 | MIDAGE SINGLES/COUPLES | Mainstream |\n",
       "| 6 | 1007 | YOUNG SINGLES/COUPLES  | Budget     |\n",
       "\n"
      ],
      "text/plain": [
       "  LYLTY_CARD_NBR LIFESTAGE              PREMIUM_CUSTOMER\n",
       "1 1000           YOUNG SINGLES/COUPLES  Premium         \n",
       "2 1002           YOUNG SINGLES/COUPLES  Mainstream      \n",
       "3 1003           YOUNG FAMILIES         Budget          \n",
       "4 1004           OLDER SINGLES/COUPLES  Mainstream      \n",
       "5 1005           MIDAGE SINGLES/COUPLES Mainstream      \n",
       "6 1007           YOUNG SINGLES/COUPLES  Budget          "
      ]
     },
     "metadata": {},
     "output_type": "display_data"
    },
    {
     "data": {
      "text/html": [
       "<table class=\"dataframe\">\n",
       "<caption>A tibble: 6 × 8</caption>\n",
       "<thead>\n",
       "\t<tr><th scope=col>DATE</th><th scope=col>STORE_NBR</th><th scope=col>LYLTY_CARD_NBR</th><th scope=col>TXN_ID</th><th scope=col>PROD_NBR</th><th scope=col>PROD_NAME</th><th scope=col>PROD_QTY</th><th scope=col>TOT_SALES</th></tr>\n",
       "\t<tr><th scope=col>&lt;dbl&gt;</th><th scope=col>&lt;dbl&gt;</th><th scope=col>&lt;dbl&gt;</th><th scope=col>&lt;dbl&gt;</th><th scope=col>&lt;dbl&gt;</th><th scope=col>&lt;chr&gt;</th><th scope=col>&lt;dbl&gt;</th><th scope=col>&lt;dbl&gt;</th></tr>\n",
       "</thead>\n",
       "<tbody>\n",
       "\t<tr><td>43390</td><td>1</td><td>1000</td><td>   1</td><td>  5</td><td>Natural Chip        Compny SeaSalt175g  </td><td>2</td><td> 6.0</td></tr>\n",
       "\t<tr><td>43599</td><td>1</td><td>1307</td><td> 348</td><td> 66</td><td>CCs Nacho Cheese    175g                </td><td>3</td><td> 6.3</td></tr>\n",
       "\t<tr><td>43605</td><td>1</td><td>1343</td><td> 383</td><td> 61</td><td>Smiths Crinkle Cut  Chips Chicken 170g  </td><td>2</td><td> 2.9</td></tr>\n",
       "\t<tr><td>43329</td><td>2</td><td>2373</td><td> 974</td><td> 69</td><td><span style=white-space:pre-wrap>Smiths Chip Thinly  S/Cream&amp;Onion 175g  </span></td><td>5</td><td>15.0</td></tr>\n",
       "\t<tr><td>43330</td><td>2</td><td>2426</td><td>1038</td><td>108</td><td>Kettle Tortilla ChpsHny&amp;Jlpno Chili 150g</td><td>3</td><td>13.8</td></tr>\n",
       "\t<tr><td>43604</td><td>4</td><td>4074</td><td>2982</td><td> 57</td><td>Old El Paso Salsa   Dip Tomato Mild 300g</td><td>1</td><td> 5.1</td></tr>\n",
       "</tbody>\n",
       "</table>\n"
      ],
      "text/latex": [
       "A tibble: 6 × 8\n",
       "\\begin{tabular}{llllllll}\n",
       " DATE & STORE\\_NBR & LYLTY\\_CARD\\_NBR & TXN\\_ID & PROD\\_NBR & PROD\\_NAME & PROD\\_QTY & TOT\\_SALES\\\\\n",
       " <dbl> & <dbl> & <dbl> & <dbl> & <dbl> & <chr> & <dbl> & <dbl>\\\\\n",
       "\\hline\n",
       "\t 43390 & 1 & 1000 &    1 &   5 & Natural Chip        Compny SeaSalt175g   & 2 &  6.0\\\\\n",
       "\t 43599 & 1 & 1307 &  348 &  66 & CCs Nacho Cheese    175g                 & 3 &  6.3\\\\\n",
       "\t 43605 & 1 & 1343 &  383 &  61 & Smiths Crinkle Cut  Chips Chicken 170g   & 2 &  2.9\\\\\n",
       "\t 43329 & 2 & 2373 &  974 &  69 & Smiths Chip Thinly  S/Cream\\&Onion 175g   & 5 & 15.0\\\\\n",
       "\t 43330 & 2 & 2426 & 1038 & 108 & Kettle Tortilla ChpsHny\\&Jlpno Chili 150g & 3 & 13.8\\\\\n",
       "\t 43604 & 4 & 4074 & 2982 &  57 & Old El Paso Salsa   Dip Tomato Mild 300g & 1 &  5.1\\\\\n",
       "\\end{tabular}\n"
      ],
      "text/markdown": [
       "\n",
       "A tibble: 6 × 8\n",
       "\n",
       "| DATE &lt;dbl&gt; | STORE_NBR &lt;dbl&gt; | LYLTY_CARD_NBR &lt;dbl&gt; | TXN_ID &lt;dbl&gt; | PROD_NBR &lt;dbl&gt; | PROD_NAME &lt;chr&gt; | PROD_QTY &lt;dbl&gt; | TOT_SALES &lt;dbl&gt; |\n",
       "|---|---|---|---|---|---|---|---|\n",
       "| 43390 | 1 | 1000 |    1 |   5 | Natural Chip        Compny SeaSalt175g   | 2 |  6.0 |\n",
       "| 43599 | 1 | 1307 |  348 |  66 | CCs Nacho Cheese    175g                 | 3 |  6.3 |\n",
       "| 43605 | 1 | 1343 |  383 |  61 | Smiths Crinkle Cut  Chips Chicken 170g   | 2 |  2.9 |\n",
       "| 43329 | 2 | 2373 |  974 |  69 | Smiths Chip Thinly  S/Cream&amp;Onion 175g   | 5 | 15.0 |\n",
       "| 43330 | 2 | 2426 | 1038 | 108 | Kettle Tortilla ChpsHny&amp;Jlpno Chili 150g | 3 | 13.8 |\n",
       "| 43604 | 4 | 4074 | 2982 |  57 | Old El Paso Salsa   Dip Tomato Mild 300g | 1 |  5.1 |\n",
       "\n"
      ],
      "text/plain": [
       "  DATE  STORE_NBR LYLTY_CARD_NBR TXN_ID PROD_NBR\n",
       "1 43390 1         1000              1     5     \n",
       "2 43599 1         1307            348    66     \n",
       "3 43605 1         1343            383    61     \n",
       "4 43329 2         2373            974    69     \n",
       "5 43330 2         2426           1038   108     \n",
       "6 43604 4         4074           2982    57     \n",
       "  PROD_NAME                                PROD_QTY TOT_SALES\n",
       "1 Natural Chip        Compny SeaSalt175g   2         6.0     \n",
       "2 CCs Nacho Cheese    175g                 3         6.3     \n",
       "3 Smiths Crinkle Cut  Chips Chicken 170g   2         2.9     \n",
       "4 Smiths Chip Thinly  S/Cream&Onion 175g   5        15.0     \n",
       "5 Kettle Tortilla ChpsHny&Jlpno Chili 150g 3        13.8     \n",
       "6 Old El Paso Salsa   Dip Tomato Mild 300g 1         5.1     "
      ]
     },
     "metadata": {},
     "output_type": "display_data"
    }
   ],
   "source": [
    "head(purchase_behaviour)\n",
    "head(transaction)"
   ]
  },
  {
   "cell_type": "markdown",
   "id": "c3d510ee",
   "metadata": {
    "papermill": {
     "duration": 0.01945,
     "end_time": "2024-01-17T14:03:38.358114",
     "exception": false,
     "start_time": "2024-01-17T14:03:38.338664",
     "status": "completed"
    },
    "tags": []
   },
   "source": [
    "## Examining Transaction Data"
   ]
  },
  {
   "cell_type": "code",
   "execution_count": 5,
   "id": "280cf5bf",
   "metadata": {
    "execution": {
     "iopub.execute_input": "2024-01-17T14:03:38.400589Z",
     "iopub.status.busy": "2024-01-17T14:03:38.398751Z",
     "shell.execute_reply": "2024-01-17T14:03:39.454121Z"
    },
    "papermill": {
     "duration": 1.079898,
     "end_time": "2024-01-17T14:03:39.457244",
     "exception": false,
     "start_time": "2024-01-17T14:03:38.377346",
     "status": "completed"
    },
    "tags": []
   },
   "outputs": [],
   "source": [
    "transaction_df <- clean_names(transaction)\n",
    "skim_without_charts(transaction_df)"
   ]
  },
  {
   "cell_type": "markdown",
   "id": "1dbe4044",
   "metadata": {
    "papermill": {
     "duration": null,
     "end_time": null,
     "exception": null,
     "start_time": null,
     "status": "completed"
    },
    "tags": []
   },
   "source": [
    "#### Convert date column to a date format"
   ]
  },
  {
   "cell_type": "code",
   "execution_count": null,
   "id": "fe0b4ce9",
   "metadata": {
    "execution": {
     "iopub.execute_input": "2024-01-17T13:30:39.038162Z",
     "iopub.status.busy": "2024-01-17T13:30:39.037022Z",
     "iopub.status.idle": "2024-01-17T13:30:39.068157Z"
    },
    "papermill": {
     "duration": null,
     "end_time": null,
     "exception": null,
     "start_time": null,
     "status": "completed"
    },
    "tags": []
   },
   "outputs": [],
   "source": [
    "transaction_df$date <- as.Date(transaction_df$date, origin = \"1899-12-30\")\n",
    "head(transaction_df)"
   ]
  },
  {
   "cell_type": "markdown",
   "id": "8f748f74",
   "metadata": {
    "papermill": {
     "duration": null,
     "end_time": null,
     "exception": null,
     "start_time": null,
     "status": "completed"
    },
    "tags": []
   },
   "source": [
    "#### Examine the words in prode_name to see if there are any incorrect entries such as products that are not chips"
   ]
  },
  {
   "cell_type": "code",
   "execution_count": null,
   "id": "60992b20",
   "metadata": {
    "execution": {
     "iopub.execute_input": "2024-01-17T13:30:39.071537Z",
     "iopub.status.busy": "2024-01-17T13:30:39.070440Z",
     "iopub.status.idle": "2024-01-17T13:30:39.091253Z"
    },
    "papermill": {
     "duration": null,
     "end_time": null,
     "exception": null,
     "start_time": null,
     "status": "completed"
    },
    "tags": []
   },
   "outputs": [],
   "source": [
    "product_words <- data.table(unlist(strsplit(unique(transaction_df$prod_name), \" \")))\n",
    "print(product_words)"
   ]
  },
  {
   "cell_type": "markdown",
   "id": "96973563",
   "metadata": {
    "papermill": {
     "duration": null,
     "end_time": null,
     "exception": null,
     "start_time": null,
     "status": "completed"
    },
    "tags": []
   },
   "source": [
    "####  Remove digits, and special characters, and then sort the distinct words by frequency of occurrence"
   ]
  },
  {
   "cell_type": "code",
   "execution_count": null,
   "id": "3236015f",
   "metadata": {
    "execution": {
     "iopub.execute_input": "2024-01-17T13:30:39.094618Z",
     "iopub.status.busy": "2024-01-17T13:30:39.093503Z",
     "iopub.status.idle": "2024-01-17T13:30:39.117810Z"
    },
    "papermill": {
     "duration": null,
     "end_time": null,
     "exception": null,
     "start_time": null,
     "status": "completed"
    },
    "tags": []
   },
   "outputs": [],
   "source": [
    "##### Remove characters\n",
    "\n",
    "words_data <- str_replace_all(product_words, \"[^[:alnum:]]\", \" \")\n",
    "words_data"
   ]
  },
  {
   "cell_type": "code",
   "execution_count": null,
   "id": "d4eb0c6b",
   "metadata": {
    "execution": {
     "iopub.execute_input": "2024-01-17T13:30:39.122318Z",
     "iopub.status.busy": "2024-01-17T13:30:39.120824Z",
     "iopub.status.idle": "2024-01-17T13:30:39.140963Z"
    },
    "papermill": {
     "duration": null,
     "end_time": null,
     "exception": null,
     "start_time": null,
     "status": "completed"
    },
    "tags": []
   },
   "outputs": [],
   "source": [
    "#### Remove digits\n",
    "words_clean <- gsub('[[:digit:]]+', '',words_data)\n",
    "words_clean "
   ]
  },
  {
   "cell_type": "code",
   "execution_count": null,
   "id": "a9120822",
   "metadata": {
    "execution": {
     "iopub.execute_input": "2024-01-17T13:30:39.144199Z",
     "iopub.status.busy": "2024-01-17T13:30:39.143167Z",
     "iopub.status.idle": "2024-01-17T13:30:39.186421Z"
    },
    "papermill": {
     "duration": null,
     "end_time": null,
     "exception": null,
     "start_time": null,
     "status": "completed"
    },
    "tags": []
   },
   "outputs": [],
   "source": [
    "#### Make a table\n",
    "words_product <- data.table(unlist(strsplit(unique(words_clean),\" \")))\n",
    "setnames(words_product, \"words\")\n",
    "words_product"
   ]
  },
  {
   "cell_type": "markdown",
   "id": "7505f24d",
   "metadata": {
    "papermill": {
     "duration": null,
     "end_time": null,
     "exception": null,
     "start_time": null,
     "status": "completed"
    },
    "tags": []
   },
   "source": [
    "#### Look at the most common words by counting the number of times a word appears and sorting them by this frequency in order of highest to lowest frequency"
   ]
  },
  {
   "cell_type": "code",
   "execution_count": null,
   "id": "8d0108a2",
   "metadata": {
    "execution": {
     "iopub.execute_input": "2024-01-17T13:30:39.190124Z",
     "iopub.status.busy": "2024-01-17T13:30:39.188986Z",
     "iopub.status.idle": "2024-01-17T13:30:39.262120Z"
    },
    "papermill": {
     "duration": null,
     "end_time": null,
     "exception": null,
     "start_time": null,
     "status": "completed"
    },
    "tags": []
   },
   "outputs": [],
   "source": [
    "#### Remove blank, count, and sort\n",
    "\n",
    "words_product %>%\n",
    "mutate(words = na_if(words, \"\")) %>% \n",
    "    filter(!is.na(words)) %>%\n",
    "    group_by(words) %>%\n",
    "    count(words, sort= TRUE)\n",
    "    "
   ]
  },
  {
   "cell_type": "markdown",
   "id": "334209aa",
   "metadata": {
    "papermill": {
     "duration": null,
     "end_time": null,
     "exception": null,
     "start_time": null,
     "status": "completed"
    },
    "tags": []
   },
   "source": [
    "There are salsa products in the dataset\n",
    "#### Remove SALSA product"
   ]
  },
  {
   "cell_type": "code",
   "execution_count": null,
   "id": "eb8d82a4",
   "metadata": {
    "execution": {
     "iopub.execute_input": "2024-01-17T13:30:39.265627Z",
     "iopub.status.busy": "2024-01-17T13:30:39.264460Z",
     "iopub.status.idle": "2024-01-17T13:30:39.544700Z"
    },
    "papermill": {
     "duration": null,
     "end_time": null,
     "exception": null,
     "start_time": null,
     "status": "completed"
    },
    "tags": []
   },
   "outputs": [],
   "source": [
    "#### create salsa phrase\n",
    "remove_salsa <- c('salsa', 'Salsa','SALSA')\n",
    "#### remove rows than contain salsa on transaction dataset\n",
    "clean_transaction <- transaction_df[ !grepl(paste(remove_salsa, collapse=\"|\"), transaction_df$prod_name),]"
   ]
  },
  {
   "cell_type": "markdown",
   "id": "f7341451",
   "metadata": {
    "papermill": {
     "duration": null,
     "end_time": null,
     "exception": null,
     "start_time": null,
     "status": "completed"
    },
    "tags": []
   },
   "source": [
    "#### Summarise the data to check for nulls and possible outliers"
   ]
  },
  {
   "cell_type": "code",
   "execution_count": null,
   "id": "cbe63f2e",
   "metadata": {
    "execution": {
     "iopub.execute_input": "2024-01-17T13:30:39.548884Z",
     "iopub.status.busy": "2024-01-17T13:30:39.547518Z",
     "iopub.status.idle": "2024-01-17T13:30:39.655243Z"
    },
    "papermill": {
     "duration": null,
     "end_time": null,
     "exception": null,
     "start_time": null,
     "status": "completed"
    },
    "tags": []
   },
   "outputs": [],
   "source": [
    "summary(clean_transaction)"
   ]
  },
  {
   "cell_type": "markdown",
   "id": "5b67ffc7",
   "metadata": {
    "papermill": {
     "duration": null,
     "end_time": null,
     "exception": null,
     "start_time": null,
     "status": "completed"
    },
    "tags": []
   },
   "source": [
    "There are no nulls in the columns but product quantity appears to have an outlier which we should investigate further. Let's investigate further the case where 200 packets of chips are bought in one transaction."
   ]
  },
  {
   "cell_type": "markdown",
   "id": "f9d3cba1",
   "metadata": {
    "papermill": {
     "duration": null,
     "end_time": null,
     "exception": null,
     "start_time": null,
     "status": "completed"
    },
    "tags": []
   },
   "source": [
    "#### Filter the dataset to find the outlier"
   ]
  },
  {
   "cell_type": "code",
   "execution_count": null,
   "id": "10a907cf",
   "metadata": {
    "execution": {
     "iopub.execute_input": "2024-01-17T13:30:39.658434Z",
     "iopub.status.busy": "2024-01-17T13:30:39.657300Z",
     "iopub.status.idle": "2024-01-17T13:30:39.701986Z"
    },
    "papermill": {
     "duration": null,
     "end_time": null,
     "exception": null,
     "start_time": null,
     "status": "completed"
    },
    "tags": []
   },
   "outputs": [],
   "source": [
    "clean_transaction %>% group_by(prod_name) %>% filter(prod_qty == 200)"
   ]
  },
  {
   "cell_type": "markdown",
   "id": "8dd762e4",
   "metadata": {
    "papermill": {
     "duration": null,
     "end_time": null,
     "exception": null,
     "start_time": null,
     "status": "completed"
    },
    "tags": []
   },
   "source": [
    "There are two transactions where 200 packets of chips are bought in one transaction and both of these transactions were by the same customer"
   ]
  },
  {
   "cell_type": "markdown",
   "id": "ef986cf9",
   "metadata": {
    "papermill": {
     "duration": null,
     "end_time": null,
     "exception": null,
     "start_time": null,
     "status": "completed"
    },
    "tags": []
   },
   "source": [
    "#### see if the customer has had other transactions"
   ]
  },
  {
   "cell_type": "code",
   "execution_count": null,
   "id": "647ed021",
   "metadata": {
    "execution": {
     "iopub.execute_input": "2024-01-17T13:30:39.705490Z",
     "iopub.status.busy": "2024-01-17T13:30:39.704376Z",
     "iopub.status.idle": "2024-01-17T13:30:39.733852Z"
    },
    "papermill": {
     "duration": null,
     "end_time": null,
     "exception": null,
     "start_time": null,
     "status": "completed"
    },
    "tags": []
   },
   "outputs": [],
   "source": [
    "clean_transaction %>% filter (lylty_card_nbr==226000)"
   ]
  },
  {
   "cell_type": "markdown",
   "id": "bf4409c8",
   "metadata": {
    "papermill": {
     "duration": null,
     "end_time": null,
     "exception": null,
     "start_time": null,
     "status": "completed"
    },
    "tags": []
   },
   "source": [
    "It looks like this customer (226000) has only had the two transactions over the year and is not an ordinary retail customer. The customer might be buying chips for commercial purposes instead. We'll remove this loyalty card number from further analysis"
   ]
  },
  {
   "cell_type": "markdown",
   "id": "beca7d33",
   "metadata": {
    "papermill": {
     "duration": null,
     "end_time": null,
     "exception": null,
     "start_time": null,
     "status": "completed"
    },
    "tags": []
   },
   "source": [
    "#### Filter out the customer based on the loyalty card number"
   ]
  },
  {
   "cell_type": "code",
   "execution_count": null,
   "id": "618cdf98",
   "metadata": {
    "execution": {
     "iopub.execute_input": "2024-01-17T13:30:39.736960Z",
     "iopub.status.busy": "2024-01-17T13:30:39.735921Z",
     "iopub.status.idle": "2024-01-17T13:30:39.754443Z"
    },
    "papermill": {
     "duration": null,
     "end_time": null,
     "exception": null,
     "start_time": null,
     "status": "completed"
    },
    "tags": []
   },
   "outputs": [],
   "source": [
    "new_transaction <- clean_transaction %>% filter(lylty_card_nbr!=226000)"
   ]
  },
  {
   "cell_type": "markdown",
   "id": "56866dcf",
   "metadata": {
    "papermill": {
     "duration": null,
     "end_time": null,
     "exception": null,
     "start_time": null,
     "status": "completed"
    },
    "tags": []
   },
   "source": [
    "Look at the number of transaction lines over time to see if there are any obvious data issues such as missing data\n",
    "#### Count the number of transactions by date"
   ]
  },
  {
   "cell_type": "code",
   "execution_count": null,
   "id": "86d99510",
   "metadata": {
    "execution": {
     "iopub.execute_input": "2024-01-17T13:30:39.757710Z",
     "iopub.status.busy": "2024-01-17T13:30:39.756657Z",
     "iopub.status.idle": "2024-01-17T13:30:39.813359Z"
    },
    "papermill": {
     "duration": null,
     "end_time": null,
     "exception": null,
     "start_time": null,
     "status": "completed"
    },
    "tags": []
   },
   "outputs": [],
   "source": [
    "new_transaction %>% count(date)"
   ]
  },
  {
   "cell_type": "markdown",
   "id": "c77d3f18",
   "metadata": {
    "papermill": {
     "duration": null,
     "end_time": null,
     "exception": null,
     "start_time": null,
     "status": "completed"
    },
    "tags": []
   },
   "source": [
    "There's only 364 rows, meaning only 364 dates which indicates a missing date. Let's create a sequence of dates from 1 Jul 2018 to 30 Jun 2019 and use this to create a chart of number of transactions over time to find the missing date"
   ]
  },
  {
   "cell_type": "markdown",
   "id": "53d2e3a2",
   "metadata": {
    "papermill": {
     "duration": null,
     "end_time": null,
     "exception": null,
     "start_time": null,
     "status": "completed"
    },
    "tags": []
   },
   "source": [
    "#### Create a sequence of dates and join this the count of transactions by date\n",
    "create a column of dates that includes every day from 1 Jul 2018 to 30 Jun 2019, and join it onto the data to fill in the missing day"
   ]
  },
  {
   "cell_type": "code",
   "execution_count": null,
   "id": "36abda04",
   "metadata": {
    "execution": {
     "iopub.execute_input": "2024-01-17T13:30:39.816667Z",
     "iopub.status.busy": "2024-01-17T13:30:39.815591Z",
     "iopub.status.idle": "2024-01-17T13:30:39.826845Z"
    },
    "papermill": {
     "duration": null,
     "end_time": null,
     "exception": null,
     "start_time": null,
     "status": "completed"
    },
    "tags": []
   },
   "outputs": [],
   "source": [
    "#### Sequence of date\n",
    "all_dates <- data.frame(date = seq(as.Date(\"2018-07-01\"), as.Date(\"2019-06-30\"), by = \"day\"))"
   ]
  },
  {
   "cell_type": "markdown",
   "id": "56ede299",
   "metadata": {
    "papermill": {
     "duration": null,
     "end_time": null,
     "exception": null,
     "start_time": null,
     "status": "completed"
    },
    "tags": []
   },
   "source": []
  },
  {
   "cell_type": "code",
   "execution_count": null,
   "id": "40fe163d",
   "metadata": {
    "execution": {
     "iopub.execute_input": "2024-01-17T13:30:39.830047Z",
     "iopub.status.busy": "2024-01-17T13:30:39.829032Z",
     "iopub.status.idle": "2024-01-17T13:30:39.924020Z"
    },
    "papermill": {
     "duration": null,
     "end_time": null,
     "exception": null,
     "start_time": null,
     "status": "completed"
    },
    "tags": []
   },
   "outputs": [],
   "source": [
    "#### Join squence of date and new_transaction date\n",
    "transaction_by_day <- all_dates %>%\n",
    "  left_join(new_transaction, by = \"date\") %>% count(date)\n",
    "transaction_by_day"
   ]
  },
  {
   "cell_type": "markdown",
   "id": "fc738a8e",
   "metadata": {
    "papermill": {
     "duration": null,
     "end_time": null,
     "exception": null,
     "start_time": null,
     "status": "completed"
    },
    "tags": []
   },
   "source": [
    "#### Setting plot themes to format graphs"
   ]
  },
  {
   "cell_type": "code",
   "execution_count": null,
   "id": "ed941dcd",
   "metadata": {
    "execution": {
     "iopub.execute_input": "2024-01-17T13:30:39.927501Z",
     "iopub.status.busy": "2024-01-17T13:30:39.926347Z",
     "iopub.status.idle": "2024-01-17T13:30:39.941926Z"
    },
    "papermill": {
     "duration": null,
     "end_time": null,
     "exception": null,
     "start_time": null,
     "status": "completed"
    },
    "tags": []
   },
   "outputs": [],
   "source": [
    "theme_set(theme_bw())\n",
    "theme_update(plot.title = element_text(hjust = 0.5))"
   ]
  },
  {
   "cell_type": "markdown",
   "id": "936c8ddd",
   "metadata": {
    "papermill": {
     "duration": null,
     "end_time": null,
     "exception": null,
     "start_time": null,
     "status": "completed"
    },
    "tags": []
   },
   "source": [
    "#### Plot transactions over time"
   ]
  },
  {
   "cell_type": "code",
   "execution_count": null,
   "id": "177588d6",
   "metadata": {
    "execution": {
     "iopub.execute_input": "2024-01-17T13:30:39.945369Z",
     "iopub.status.busy": "2024-01-17T13:30:39.944235Z",
     "iopub.status.idle": "2024-01-17T13:30:40.163757Z"
    },
    "papermill": {
     "duration": null,
     "end_time": null,
     "exception": null,
     "start_time": null,
     "status": "completed"
    },
    "tags": []
   },
   "outputs": [],
   "source": [
    "ggplot(transaction_by_day, aes(x = date, y = n)) +\n",
    "geom_line() +\n",
    "labs(x = \"Day\", y = \"Number of transactions\", title = \"Transactions over time\") +\n",
    "scale_x_date(breaks = \"1 month\") +  theme(axis.text.x = element_text(angle = 90, vjust = 0.5))"
   ]
  },
  {
   "cell_type": "markdown",
   "id": "e86cc1f8",
   "metadata": {
    "papermill": {
     "duration": null,
     "end_time": null,
     "exception": null,
     "start_time": null,
     "status": "completed"
    },
    "tags": []
   },
   "source": [
    " There is an increase in purchases in December and a break in late December."
   ]
  },
  {
   "cell_type": "markdown",
   "id": "f8c04a7a",
   "metadata": {
    "papermill": {
     "duration": null,
     "end_time": null,
     "exception": null,
     "start_time": null,
     "status": "completed"
    },
    "tags": []
   },
   "source": [
    "#### Filter to December and look at individual days"
   ]
  },
  {
   "cell_type": "code",
   "execution_count": null,
   "id": "11bc675f",
   "metadata": {
    "execution": {
     "iopub.execute_input": "2024-01-17T13:30:40.167546Z",
     "iopub.status.busy": "2024-01-17T13:30:40.166234Z",
     "iopub.status.idle": "2024-01-17T13:30:40.201977Z"
    },
    "papermill": {
     "duration": null,
     "end_time": null,
     "exception": null,
     "start_time": null,
     "status": "completed"
    },
    "tags": []
   },
   "outputs": [],
   "source": [
    "december_data <- subset(transaction_by_day, format(date, \"%m\") == \"12\")\n",
    "december_data"
   ]
  },
  {
   "cell_type": "code",
   "execution_count": null,
   "id": "9c2f4b25",
   "metadata": {
    "execution": {
     "iopub.execute_input": "2024-01-17T13:30:40.206855Z",
     "iopub.status.busy": "2024-01-17T13:30:40.205573Z",
     "iopub.status.idle": "2024-01-17T13:30:40.406146Z"
    },
    "papermill": {
     "duration": null,
     "end_time": null,
     "exception": null,
     "start_time": null,
     "status": "completed"
    },
    "tags": []
   },
   "outputs": [],
   "source": [
    "ggplot(december_data, aes(x = date, y = n)) +\n",
    "geom_line() +\n",
    "labs(x = \"Day\", y = \"Number of transactions\", title = \"Transactions over time\") +\n",
    "scale_x_date(breaks = \"1 day\") +  theme(axis.text.x = element_text(angle = 90, vjust = 0.5))"
   ]
  },
  {
   "cell_type": "markdown",
   "id": "f4b7d3dd",
   "metadata": {
    "papermill": {
     "duration": null,
     "end_time": null,
     "exception": null,
     "start_time": null,
     "status": "completed"
    },
    "tags": []
   },
   "source": [
    "We can see that the increase in sales occurs in the lead-up to Christmas and that there are zero sales on Christmas day itself. This is due to shops being closed on Christmas day."
   ]
  },
  {
   "cell_type": "markdown",
   "id": "d674c156",
   "metadata": {
    "papermill": {
     "duration": null,
     "end_time": null,
     "exception": null,
     "start_time": null,
     "status": "completed"
    },
    "tags": []
   },
   "source": [
    "Now that we are satisfied that the data no longer has outliers, we can move on to creating other features such as brand of chips or pack size from PROD_NAME. We will start with pack size."
   ]
  },
  {
   "cell_type": "markdown",
   "id": "faae3d1f",
   "metadata": {
    "papermill": {
     "duration": null,
     "end_time": null,
     "exception": null,
     "start_time": null,
     "status": "completed"
    },
    "tags": []
   },
   "source": [
    "#### Pack size \n",
    "We can work this out by taking the digits that are in prod_name"
   ]
  },
  {
   "cell_type": "code",
   "execution_count": null,
   "id": "131ac190",
   "metadata": {
    "execution": {
     "iopub.execute_input": "2024-01-17T13:30:40.412569Z",
     "iopub.status.busy": "2024-01-17T13:30:40.410490Z",
     "iopub.status.idle": "2024-01-17T13:30:40.562817Z"
    },
    "papermill": {
     "duration": null,
     "end_time": null,
     "exception": null,
     "start_time": null,
     "status": "completed"
    },
    "tags": []
   },
   "outputs": [],
   "source": [
    "setDT(new_transaction)\n",
    "new_transaction[, pack_size := parse_number(prod_name)]\n",
    "new_transaction"
   ]
  },
  {
   "cell_type": "markdown",
   "id": "1f22e0c7",
   "metadata": {
    "papermill": {
     "duration": null,
     "end_time": null,
     "exception": null,
     "start_time": null,
     "status": "completed"
    },
    "tags": []
   },
   "source": [
    " Let's check if the pack sizes look sensible"
   ]
  },
  {
   "cell_type": "code",
   "execution_count": null,
   "id": "4be04450",
   "metadata": {
    "execution": {
     "iopub.execute_input": "2024-01-17T13:30:40.566419Z",
     "iopub.status.busy": "2024-01-17T13:30:40.565188Z",
     "iopub.status.idle": "2024-01-17T13:30:40.612023Z"
    },
    "papermill": {
     "duration": null,
     "end_time": null,
     "exception": null,
     "start_time": null,
     "status": "completed"
    },
    "tags": []
   },
   "outputs": [],
   "source": [
    "transaction_pack_size <- new_transaction[, .N,pack_size][order(pack_size)]\n",
    "transaction_pack_size"
   ]
  },
  {
   "cell_type": "markdown",
   "id": "5bd0d6d6",
   "metadata": {
    "papermill": {
     "duration": null,
     "end_time": null,
     "exception": null,
     "start_time": null,
     "status": "completed"
    },
    "tags": []
   },
   "source": [
    "The largest size is 380g and the smallest size is 70g - seems sensible!"
   ]
  },
  {
   "cell_type": "markdown",
   "id": "0e77bcdc",
   "metadata": {
    "papermill": {
     "duration": null,
     "end_time": null,
     "exception": null,
     "start_time": null,
     "status": "completed"
    },
    "tags": []
   },
   "source": [
    "#### Plot a histogram showing the number of transactions by pack size"
   ]
  },
  {
   "cell_type": "code",
   "execution_count": null,
   "id": "fac915aa",
   "metadata": {
    "execution": {
     "iopub.execute_input": "2024-01-17T13:30:40.615990Z",
     "iopub.status.busy": "2024-01-17T13:30:40.614124Z",
     "iopub.status.idle": "2024-01-17T13:30:40.857800Z"
    },
    "papermill": {
     "duration": null,
     "end_time": null,
     "exception": null,
     "start_time": null,
     "status": "completed"
    },
    "tags": []
   },
   "outputs": [],
   "source": [
    "ggplot(transaction_pack_size, aes(x = pack_size)) +\n",
    "geom_histogram(binwidth=50,color = 'white',fill ='blue') +\n",
    "labs(x = \"Pack Size\", y = \"Number of transactions\", title = \"Transactions by Pack Size\")+\n",
    "theme_minimal()"
   ]
  },
  {
   "cell_type": "markdown",
   "id": "75ce02b0",
   "metadata": {
    "papermill": {
     "duration": null,
     "end_time": null,
     "exception": null,
     "start_time": null,
     "status": "completed"
    },
    "tags": []
   },
   "source": [
    " #### Create brands\n",
    " We can use the first word in prode_name to work out the brand name\n",
    " ##### Create a column which contains the brand of the product, by extracting it from the product name"
   ]
  },
  {
   "cell_type": "code",
   "execution_count": null,
   "id": "93e080b1",
   "metadata": {
    "execution": {
     "iopub.execute_input": "2024-01-17T13:30:40.861207Z",
     "iopub.status.busy": "2024-01-17T13:30:40.860093Z",
     "iopub.status.idle": "2024-01-17T13:30:41.358885Z"
    },
    "papermill": {
     "duration": null,
     "end_time": null,
     "exception": null,
     "start_time": null,
     "status": "completed"
    },
    "tags": []
   },
   "outputs": [],
   "source": [
    "brand_transaction <- new_transaction %>%\n",
    "  mutate(brand = str_extract(prod_name, \"^[^\\\\d]+\"))\n",
    "brand_transaction %>% group_by(brand)"
   ]
  },
  {
   "cell_type": "markdown",
   "id": "99f5d9a0",
   "metadata": {
    "papermill": {
     "duration": null,
     "end_time": null,
     "exception": null,
     "start_time": null,
     "status": "completed"
    },
    "tags": []
   },
   "source": [
    "Some of the brand names look like they are of the same brands - such as RED and RRD, which are both Red Rock Deli chips"
   ]
  },
  {
   "cell_type": "markdown",
   "id": "d0702f45",
   "metadata": {
    "papermill": {
     "duration": null,
     "end_time": null,
     "exception": null,
     "start_time": null,
     "status": "completed"
    },
    "tags": []
   },
   "source": [
    "#### Clean brand names"
   ]
  },
  {
   "cell_type": "code",
   "execution_count": null,
   "id": "8e237c58",
   "metadata": {
    "execution": {
     "iopub.execute_input": "2024-01-17T13:30:41.361798Z",
     "iopub.status.busy": "2024-01-17T13:30:41.360802Z",
     "iopub.status.idle": "2024-01-17T13:30:41.465092Z"
    },
    "papermill": {
     "duration": null,
     "end_time": null,
     "exception": null,
     "start_time": null,
     "status": "completed"
    },
    "tags": []
   },
   "outputs": [],
   "source": [
    "clean_transaction <- brand_transaction %>%\n",
    "    mutate(brand = case_when(brand == \"RED\" ~ \"RRD\",TRUE ~ brand))\n",
    "clean_transaction"
   ]
  },
  {
   "cell_type": "markdown",
   "id": "252ccf48",
   "metadata": {
    "papermill": {
     "duration": null,
     "end_time": null,
     "exception": null,
     "start_time": null,
     "status": "completed"
    },
    "tags": []
   },
   "source": [
    "## Examining customer data"
   ]
  },
  {
   "cell_type": "code",
   "execution_count": null,
   "id": "57f67b28",
   "metadata": {
    "execution": {
     "iopub.execute_input": "2024-01-17T13:30:41.468237Z",
     "iopub.status.busy": "2024-01-17T13:30:41.467182Z",
     "iopub.status.idle": "2024-01-17T13:30:41.725303Z"
    },
    "papermill": {
     "duration": null,
     "end_time": null,
     "exception": null,
     "start_time": null,
     "status": "completed"
    },
    "tags": []
   },
   "outputs": [],
   "source": [
    "purchase_df <- clean_names(purchase_behaviour)\n",
    "skim_without_charts(purchase_df)"
   ]
  },
  {
   "cell_type": "markdown",
   "id": "29df01c5",
   "metadata": {
    "papermill": {
     "duration": null,
     "end_time": null,
     "exception": null,
     "start_time": null,
     "status": "completed"
    },
    "tags": []
   },
   "source": [
    "#### Merge transaction data to customer data"
   ]
  },
  {
   "cell_type": "code",
   "execution_count": null,
   "id": "81f002a2",
   "metadata": {
    "execution": {
     "iopub.execute_input": "2024-01-17T13:30:41.728442Z",
     "iopub.status.busy": "2024-01-17T13:30:41.727366Z",
     "iopub.status.idle": "2024-01-17T13:30:41.900452Z"
    },
    "papermill": {
     "duration": null,
     "end_time": null,
     "exception": null,
     "start_time": null,
     "status": "completed"
    },
    "tags": []
   },
   "outputs": [],
   "source": [
    "all_data <- merge(clean_transaction, purchase_df, all.x = TRUE)\n",
    "all_data"
   ]
  },
  {
   "cell_type": "markdown",
   "id": "43eb5304",
   "metadata": {
    "papermill": {
     "duration": null,
     "end_time": null,
     "exception": null,
     "start_time": null,
     "status": "completed"
    },
    "tags": []
   },
   "source": [
    "As the number of rows in `all_data` is the same as that of `clean_transaction`, we can be sure that no duplicates were created. This is because we created `all_data` by setting `all.x = TRUE` (in other words, a left join) which means take all the rows in `clean_transaction` and find rows with matching values in shared columns and then joining the details in these rows to the `x` or the first mentioned table."
   ]
  },
  {
   "cell_type": "markdown",
   "id": "8e0aed90",
   "metadata": {
    "papermill": {
     "duration": null,
     "end_time": null,
     "exception": null,
     "start_time": null,
     "status": "completed"
    },
    "tags": []
   },
   "source": [
    "#### See if any transactions did not have a matched customer"
   ]
  },
  {
   "cell_type": "code",
   "execution_count": null,
   "id": "c9d35b53",
   "metadata": {
    "execution": {
     "iopub.execute_input": "2024-01-17T13:30:41.903672Z",
     "iopub.status.busy": "2024-01-17T13:30:41.902566Z",
     "iopub.status.idle": "2024-01-17T13:30:44.823721Z"
    },
    "papermill": {
     "duration": null,
     "end_time": null,
     "exception": null,
     "start_time": null,
     "status": "completed"
    },
    "tags": []
   },
   "outputs": [],
   "source": [
    "skim_without_charts(all_data)"
   ]
  },
  {
   "cell_type": "markdown",
   "id": "535f5cb0",
   "metadata": {
    "papermill": {
     "duration": null,
     "end_time": null,
     "exception": null,
     "start_time": null,
     "status": "completed"
    },
    "tags": []
   },
   "source": [
    "There are no nulls. So all our customers in the transaction data has been accounted for in the customer dataset"
   ]
  },
  {
   "cell_type": "code",
   "execution_count": null,
   "id": "7fa7e068",
   "metadata": {
    "execution": {
     "iopub.execute_input": "2024-01-17T13:30:44.827226Z",
     "iopub.status.busy": "2024-01-17T13:30:44.825835Z",
     "iopub.status.idle": "2024-01-17T13:30:47.401973Z"
    },
    "papermill": {
     "duration": null,
     "end_time": null,
     "exception": null,
     "start_time": null,
     "status": "completed"
    },
    "tags": []
   },
   "outputs": [],
   "source": [
    "write.csv(all_data, \"all_data.csv\",row.names = FALSE)"
   ]
  },
  {
   "cell_type": "markdown",
   "id": "4b660082",
   "metadata": {
    "papermill": {
     "duration": null,
     "end_time": null,
     "exception": null,
     "start_time": null,
     "status": "completed"
    },
    "tags": []
   },
   "source": [
    "Data exploration is now complete"
   ]
  }
 ],
 "metadata": {
  "kaggle": {
   "accelerator": "none",
   "dataSources": [
    {
     "datasetId": 4302351,
     "sourceId": 7399332,
     "sourceType": "datasetVersion"
    }
   ],
   "dockerImageVersionId": 30618,
   "isGpuEnabled": false,
   "isInternetEnabled": true,
   "language": "r",
   "sourceType": "notebook"
  },
  "kernelspec": {
   "display_name": "R",
   "language": "R",
   "name": "ir"
  },
  "language_info": {
   "codemirror_mode": "r",
   "file_extension": ".r",
   "mimetype": "text/x-r-source",
   "name": "R",
   "pygments_lexer": "r",
   "version": "4.0.5"
  },
  "papermill": {
   "default_parameters": {},
   "duration": 10.641533,
   "end_time": "2024-01-17T14:03:39.591992",
   "environment_variables": {},
   "exception": null,
   "input_path": "__notebook__.ipynb",
   "output_path": "__notebook__.ipynb",
   "parameters": {},
   "start_time": "2024-01-17T14:03:28.950459",
   "version": "2.5.0"
  }
 },
 "nbformat": 4,
 "nbformat_minor": 5
}
